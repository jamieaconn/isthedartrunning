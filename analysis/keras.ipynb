{
 "cells": [
  {
   "cell_type": "code",
   "execution_count": 41,
   "metadata": {
    "collapsed": true
   },
   "outputs": [],
   "source": [
    "# based on https://r2rt.com/recurrent-neural-networks-in-tensorflow-i.html\n",
    "\n",
    "import pandas as pd\n",
    "import numpy as np\n",
    "#%matplotlib inline\n",
    "import matplotlib.pyplot as plt\n",
    "import sqlite3\n",
    "import os\n",
    "import sys\n",
    "import tensorflow as tf\n",
    "import warnings\n",
    "\n",
    "from generate_data import *"
   ]
  },
  {
   "cell_type": "code",
   "execution_count": 42,
   "metadata": {},
   "outputs": [
    {
     "name": "stdout",
     "output_type": "stream",
     "text": [
      "_________________________________________________________________\n",
      "Layer (type)                 Output Shape              Param #   \n",
      "=================================================================\n",
      "lstm_5 (LSTM)                (None, 60, 40)            7040      \n",
      "_________________________________________________________________\n",
      "lstm_6 (LSTM)                (None, 60, 40)            12960     \n",
      "_________________________________________________________________\n",
      "dense_3 (Dense)              (None, 60, 1)             41        \n",
      "=================================================================\n",
      "Total params: 20,041\n",
      "Trainable params: 20,041\n",
      "Non-trainable params: 0\n",
      "_________________________________________________________________\n"
     ]
    }
   ],
   "source": [
    "from keras.models import Sequential\n",
    "from keras import layers\n",
    "\n",
    "RNN = layers.LSTM\n",
    "HIDDEN_SIZE = 40\n",
    "BATCH_SIZE = 150\n",
    "LAYERS = 1\n",
    "NUM_STEPS = 60\n",
    "NUM_LEVEL_UPDATES = 15\n",
    "NUM_FEATURES = 3\n",
    "NUM_ITERATIONS = 30\n",
    "\n",
    "model = Sequential()\n",
    "model.add(RNN(HIDDEN_SIZE, return_sequences=True, input_shape=(NUM_STEPS, NUM_FEATURES)))\n",
    "model.add(RNN(HIDDEN_SIZE, return_sequences=True))\n",
    "\n",
    "\n",
    "model.add(layers.Dense(1))\n",
    "#model.add(layers.Activation('softmax'))\n",
    "model.compile(loss='mean_squared_error',\n",
    "              optimizer='adam',\n",
    "              metrics=['accuracy'])\n",
    "model.summary()\n"
   ]
  },
  {
   "cell_type": "code",
   "execution_count": 43,
   "metadata": {},
   "outputs": [
    {
     "name": "stderr",
     "output_type": "stream",
     "text": [
      "2018-09-20 21:41:08,741 root         DEBUG    loading entire df for river dart from sql\n",
      "2018-09-20 21:41:09,418 root         DEBUG    Fill in missing timestamps by reindexing\n",
      "2018-09-20 21:41:10,062 root         DEBUG    Convert cumulative rain to actual rain\n",
      "2018-09-20 21:41:10,136 root         INFO     latest rain update at: 2018-08-19 21:00:00\n",
      "2018-09-20 21:41:10,137 root         DEBUG    Concat rain and forecast to create model_rain\n",
      "2018-09-20 21:41:10,147 root         DEBUG    interpolate model_rain\n"
     ]
    }
   ],
   "source": [
    "# IMPORT DATA\n",
    "\n",
    "train_df, test_df = load_data()\n"
   ]
  },
  {
   "cell_type": "code",
   "execution_count": null,
   "metadata": {
    "collapsed": true
   },
   "outputs": [],
   "source": []
  },
  {
   "cell_type": "code",
   "execution_count": 44,
   "metadata": {},
   "outputs": [
    {
     "name": "stdout",
     "output_type": "stream",
     "text": [
      "(10000, 60, 1)\n",
      "(10000, 60, 3)\n"
     ]
    }
   ],
   "source": [
    "# CREATE SAMPLES\n",
    "\n",
    "# x shape should be (num_samples, num_steps, num_features)\n",
    "# y shape should be (num_samples, num_steps)\n",
    "# Each x should be num_steps long with NUM_LEVEL_UPDATES at the start\n",
    "# For each x, generate a random value and use that as the index\n",
    "# Maybe later we could vary the sequence length OR include more level updates from the past\n",
    "\n",
    "\n",
    "import random\n",
    "\n",
    "raw_X = np.array(list(train_df.model_rain.values))\n",
    "raw_Y = np.array(list(train_df.level.values))\n",
    "\n",
    "x_train, y_train = create_random_samples(df = train_df, num_samples=10000, num_steps=NUM_STEPS)\n",
    "x_val, y_val = create_random_samples(df = train_df, num_samples=1000, num_steps=NUM_STEPS, cutoff=0)\n",
    "print y_train.shape\n",
    "print x_train.shape"
   ]
  },
  {
   "cell_type": "code",
   "execution_count": 45,
   "metadata": {
    "scrolled": true
   },
   "outputs": [
    {
     "name": "stdout",
     "output_type": "stream",
     "text": [
      "()\n",
      "--------------------------------------------------\n",
      "('Iteration', 1)\n",
      "Train on 10000 samples, validate on 1000 samples\n",
      "Epoch 1/1\n",
      "10000/10000 [==============================] - 13s 1ms/step - loss: 0.0794 - acc: 1.8333e-05 - val_loss: 0.0204 - val_acc: 0.0000e+00\n",
      "()\n",
      "--------------------------------------------------\n",
      "('Iteration', 2)\n",
      "Train on 10000 samples, validate on 1000 samples\n",
      "Epoch 1/1\n",
      "10000/10000 [==============================] - 13s 1ms/step - loss: 0.0201 - acc: 4.0000e-05 - val_loss: 0.0101 - val_acc: 0.0000e+00\n",
      "()\n",
      "--------------------------------------------------\n",
      "('Iteration', 3)\n",
      "Train on 10000 samples, validate on 1000 samples\n",
      "Epoch 1/1\n",
      "10000/10000 [==============================] - 12s 1ms/step - loss: 0.0140 - acc: 4.0000e-05 - val_loss: 0.0088 - val_acc: 0.0000e+00\n",
      "()\n",
      "--------------------------------------------------\n",
      "('Iteration', 4)\n",
      "Train on 10000 samples, validate on 1000 samples\n",
      "Epoch 1/1\n",
      "10000/10000 [==============================] - 12s 1ms/step - loss: 0.0118 - acc: 4.0000e-05 - val_loss: 0.0067 - val_acc: 0.0000e+00\n",
      "()\n",
      "--------------------------------------------------\n",
      "('Iteration', 5)\n",
      "Train on 10000 samples, validate on 1000 samples\n",
      "Epoch 1/1\n",
      "10000/10000 [==============================] - 12s 1ms/step - loss: 0.0104 - acc: 4.1667e-05 - val_loss: 0.0060 - val_acc: 0.0000e+00\n",
      "()\n",
      "--------------------------------------------------\n",
      "('Iteration', 6)\n",
      "Train on 10000 samples, validate on 1000 samples\n",
      "Epoch 1/1\n",
      "10000/10000 [==============================] - 12s 1ms/step - loss: 0.0098 - acc: 4.1667e-05 - val_loss: 0.0056 - val_acc: 0.0000e+00\n",
      "()\n",
      "--------------------------------------------------\n",
      "('Iteration', 7)\n",
      "Train on 10000 samples, validate on 1000 samples\n",
      "Epoch 1/1\n",
      "10000/10000 [==============================] - 12s 1ms/step - loss: 0.0089 - acc: 4.1667e-05 - val_loss: 0.0050 - val_acc: 0.0000e+00\n",
      "()\n",
      "--------------------------------------------------\n",
      "('Iteration', 8)\n",
      "Train on 10000 samples, validate on 1000 samples\n",
      "Epoch 1/1\n",
      "10000/10000 [==============================] - 12s 1ms/step - loss: 0.0086 - acc: 4.1667e-05 - val_loss: 0.0051 - val_acc: 0.0000e+00\n",
      "()\n",
      "--------------------------------------------------\n",
      "('Iteration', 9)\n",
      "Train on 10000 samples, validate on 1000 samples\n",
      "Epoch 1/1\n",
      "10000/10000 [==============================] - 12s 1ms/step - loss: 0.0082 - acc: 4.1667e-05 - val_loss: 0.0047 - val_acc: 0.0000e+00\n",
      "()\n",
      "--------------------------------------------------\n",
      "('Iteration', 10)\n",
      "Train on 10000 samples, validate on 1000 samples\n",
      "Epoch 1/1\n",
      "10000/10000 [==============================] - 12s 1ms/step - loss: 0.0079 - acc: 4.1667e-05 - val_loss: 0.0046 - val_acc: 0.0000e+00\n",
      "()\n",
      "--------------------------------------------------\n",
      "('Iteration', 11)\n",
      "Train on 10000 samples, validate on 1000 samples\n",
      "Epoch 1/1\n",
      "10000/10000 [==============================] - 12s 1ms/step - loss: 0.0077 - acc: 4.1667e-05 - val_loss: 0.0046 - val_acc: 0.0000e+00\n",
      "()\n",
      "--------------------------------------------------\n",
      "('Iteration', 12)\n",
      "Train on 10000 samples, validate on 1000 samples\n",
      "Epoch 1/1\n",
      "10000/10000 [==============================] - 12s 1ms/step - loss: 0.0076 - acc: 4.3333e-05 - val_loss: 0.0050 - val_acc: 0.0000e+00\n",
      "()\n",
      "--------------------------------------------------\n",
      "('Iteration', 13)\n",
      "Train on 10000 samples, validate on 1000 samples\n",
      "Epoch 1/1\n",
      "10000/10000 [==============================] - 14s 1ms/step - loss: 0.0076 - acc: 4.3333e-05 - val_loss: 0.0041 - val_acc: 0.0000e+00\n",
      "()\n",
      "--------------------------------------------------\n",
      "('Iteration', 14)\n",
      "Train on 10000 samples, validate on 1000 samples\n",
      "Epoch 1/1\n",
      "10000/10000 [==============================] - 14s 1ms/step - loss: 0.0072 - acc: 4.3333e-05 - val_loss: 0.0044 - val_acc: 0.0000e+00\n",
      "()\n",
      "--------------------------------------------------\n",
      "('Iteration', 15)\n",
      "Train on 10000 samples, validate on 1000 samples\n",
      "Epoch 1/1\n",
      "10000/10000 [==============================] - 14s 1ms/step - loss: 0.0074 - acc: 4.3333e-05 - val_loss: 0.0043 - val_acc: 0.0000e+00\n",
      "()\n",
      "--------------------------------------------------\n",
      "('Iteration', 16)\n",
      "Train on 10000 samples, validate on 1000 samples\n",
      "Epoch 1/1\n",
      "10000/10000 [==============================] - 14s 1ms/step - loss: 0.0069 - acc: 4.3333e-05 - val_loss: 0.0038 - val_acc: 0.0000e+00\n",
      "()\n",
      "--------------------------------------------------\n",
      "('Iteration', 17)\n",
      "Train on 10000 samples, validate on 1000 samples\n",
      "Epoch 1/1\n",
      "10000/10000 [==============================] - 14s 1ms/step - loss: 0.0067 - acc: 4.3333e-05 - val_loss: 0.0038 - val_acc: 0.0000e+00\n",
      "()\n",
      "--------------------------------------------------\n",
      "('Iteration', 18)\n",
      "Train on 10000 samples, validate on 1000 samples\n",
      "Epoch 1/1\n",
      "10000/10000 [==============================] - 15s 1ms/step - loss: 0.0067 - acc: 4.3333e-05 - val_loss: 0.0042 - val_acc: 0.0000e+00\n",
      "()\n",
      "--------------------------------------------------\n",
      "('Iteration', 19)\n",
      "Train on 10000 samples, validate on 1000 samples\n",
      "Epoch 1/1\n",
      "10000/10000 [==============================] - 13s 1ms/step - loss: 0.0066 - acc: 4.3333e-05 - val_loss: 0.0038 - val_acc: 0.0000e+00\n",
      "()\n",
      "--------------------------------------------------\n",
      "('Iteration', 20)\n",
      "Train on 10000 samples, validate on 1000 samples\n",
      "Epoch 1/1\n",
      "10000/10000 [==============================] - 12s 1ms/step - loss: 0.0065 - acc: 4.3333e-05 - val_loss: 0.0039 - val_acc: 0.0000e+00\n",
      "()\n",
      "--------------------------------------------------\n",
      "('Iteration', 21)\n",
      "Train on 10000 samples, validate on 1000 samples\n",
      "Epoch 1/1\n",
      "10000/10000 [==============================] - 12s 1ms/step - loss: 0.0066 - acc: 4.3333e-05 - val_loss: 0.0037 - val_acc: 0.0000e+00\n",
      "()\n",
      "--------------------------------------------------\n",
      "('Iteration', 22)\n",
      "Train on 10000 samples, validate on 1000 samples\n",
      "Epoch 1/1\n",
      "10000/10000 [==============================] - 13s 1ms/step - loss: 0.0064 - acc: 4.3333e-05 - val_loss: 0.0035 - val_acc: 0.0000e+00\n",
      "()\n",
      "--------------------------------------------------\n",
      "('Iteration', 23)\n",
      "Train on 10000 samples, validate on 1000 samples\n",
      "Epoch 1/1\n",
      "10000/10000 [==============================] - 12s 1ms/step - loss: 0.0064 - acc: 4.3333e-05 - val_loss: 0.0035 - val_acc: 0.0000e+00\n",
      "()\n",
      "--------------------------------------------------\n",
      "('Iteration', 24)\n",
      "Train on 10000 samples, validate on 1000 samples\n",
      "Epoch 1/1\n",
      "10000/10000 [==============================] - 13s 1ms/step - loss: 0.0062 - acc: 4.3333e-05 - val_loss: 0.0036 - val_acc: 0.0000e+00\n",
      "()\n",
      "--------------------------------------------------\n",
      "('Iteration', 25)\n",
      "Train on 10000 samples, validate on 1000 samples\n",
      "Epoch 1/1\n",
      "10000/10000 [==============================] - 13s 1ms/step - loss: 0.0063 - acc: 4.3333e-05 - val_loss: 0.0034 - val_acc: 0.0000e+00\n",
      "()\n",
      "--------------------------------------------------\n",
      "('Iteration', 26)\n",
      "Train on 10000 samples, validate on 1000 samples\n",
      "Epoch 1/1\n",
      "10000/10000 [==============================] - 12s 1ms/step - loss: 0.0063 - acc: 4.3333e-05 - val_loss: 0.0046 - val_acc: 0.0000e+00\n",
      "()\n",
      "--------------------------------------------------\n",
      "('Iteration', 27)\n",
      "Train on 10000 samples, validate on 1000 samples\n",
      "Epoch 1/1\n",
      "10000/10000 [==============================] - 13s 1ms/step - loss: 0.0063 - acc: 4.3333e-05 - val_loss: 0.0034 - val_acc: 0.0000e+00\n",
      "()\n",
      "--------------------------------------------------\n",
      "('Iteration', 28)\n",
      "Train on 10000 samples, validate on 1000 samples\n",
      "Epoch 1/1\n",
      "10000/10000 [==============================] - 13s 1ms/step - loss: 0.0062 - acc: 4.3333e-05 - val_loss: 0.0036 - val_acc: 0.0000e+00\n",
      "()\n",
      "--------------------------------------------------\n",
      "('Iteration', 29)\n",
      "Train on 10000 samples, validate on 1000 samples\n",
      "Epoch 1/1\n",
      "10000/10000 [==============================] - 13s 1ms/step - loss: 0.0060 - acc: 4.3333e-05 - val_loss: 0.0033 - val_acc: 0.0000e+00\n"
     ]
    }
   ],
   "source": [
    "for iteration in range(1, NUM_ITERATIONS):\n",
    "    print()\n",
    "    print('-' * 50)\n",
    "    print('Iteration', iteration)\n",
    "    model.fit(x_train, y_train,\n",
    "              batch_size=BATCH_SIZE,\n",
    "              epochs=1,\n",
    "              validation_data=(x_val, y_val))"
   ]
  },
  {
   "cell_type": "code",
   "execution_count": 46,
   "metadata": {
    "scrolled": true
   },
   "outputs": [
    {
     "name": "stdout",
     "output_type": "stream",
     "text": [
      "1\n",
      "31\n",
      "55\n",
      "136\n",
      "206\n",
      "215\n",
      "295\n",
      "393\n",
      "623\n",
      "799\n",
      "892\n",
      "942\n"
     ]
    }
   ],
   "source": [
    "# find some samples with some interesting things to look at!\n",
    "for i in range(0, 1000):\n",
    "    if max(y_val[i]) > 1.5:\n",
    "        print i"
   ]
  },
  {
   "cell_type": "code",
   "execution_count": 50,
   "metadata": {
    "scrolled": true
   },
   "outputs": [
    {
     "data": {
      "image/png": "[encoded data removed]",
      "text/plain": [
       "<Figure size 432x288 with 1 Axes>"
      ]
     },
     "metadata": {},
     "output_type": "display_data"
    }
   ],
   "source": [
    "index = 623\n",
    "\n",
    "plt.plot(model.predict(x_val[index:index+1,:,:]).flatten())\n",
    "plt.plot(y_val[index])\n",
    "plt.show()"
   ]
  },
  {
   "cell_type": "code",
   "execution_count": 73,
   "metadata": {},
   "outputs": [
    {
     "name": "stdout",
     "output_type": "stream",
     "text": [
      "\n"
     ]
    }
   ],
   "source": [
    "from math import sqrt\n",
    "\n",
    "prediction_errors = []\n",
    "for i in range(0, 1000):\n",
    "    prediction_errors.append(np.absolute(model.predict(x_val[index:index+1,:,:]).flatten() - y_val[index].flatten()))\n",
    "\n"
   ]
  },
  {
   "cell_type": "code",
   "execution_count": 84,
   "metadata": {},
   "outputs": [
    {
     "name": "stdout",
     "output_type": "stream",
     "text": [
      "Mean absolute error: 0.0533\n",
      "Root mean squared error: 0.076\n"
     ]
    }
   ],
   "source": [
    "print \"Mean absolute error:\", (sum(sum(prediction_errors)) /60000) .round(4)\n",
    "print \"Root mean squared error:\", round(sqrt(sum(sum([pred**2 for pred in prediction_errors])) /60000), 3)"
   ]
  },
  {
   "cell_type": "code",
   "execution_count": null,
   "metadata": {
    "collapsed": true
   },
   "outputs": [],
   "source": []
  }
 ],
 "metadata": {
  "kernelspec": {
   "display_name": "ENV",
   "language": "python",
   "name": "env"
  },
  "language_info": {
   "codemirror_mode": {
    "name": "ipython",
    "version": 2
   },
   "file_extension": ".py",
   "mimetype": "text/x-python",
   "name": "python",
   "nbconvert_exporter": "python",
   "pygments_lexer": "ipython2",
   "version": "2.7.10"
  }
 },
 "nbformat": 4,
 "nbformat_minor": 2
}
