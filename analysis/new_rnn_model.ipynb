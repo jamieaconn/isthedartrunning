{
 "cells": [
  {
   "cell_type": "markdown",
   "metadata": {},
   "source": [
    "## Notes\n",
    "\n",
    "Have a number of epochs (num-epochs) and at the start of each epoch you reset the training state\n",
    "\n",
    "Each epoch has a number (epoch-size) of batches and at the end of each batch you update the weights\n",
    "\n",
    "The batch is what you pass into sess.run\n",
    "\n",
    "The batch is X, Y where X has dim [batch-size, num-steps, num-features] and Y has dim [batch-size, num-steps]"
   ]
  },
  {
   "cell_type": "code",
   "execution_count": 1,
   "metadata": {},
   "outputs": [
    {
     "name": "stderr",
     "output_type": "stream",
     "text": [
      "2019-01-28 21:59:34,020 matplotlib.backends DEBUG    backend module://ipykernel.pylab.backend_inline version unknown\n"
     ]
    }
   ],
   "source": [
    "import new_rnn_functions\n",
    "import numpy as np\n",
    "import random\n",
    "%matplotlib inline\n",
    "import matplotlib.pyplot as plt\n",
    "import tensorflow as tf\n",
    "import math\n",
    "import shutil\n",
    "import os\n",
    "from tensorflow.contrib import predictor\n"
   ]
  },
  {
   "cell_type": "code",
   "execution_count": 2,
   "metadata": {},
   "outputs": [
    {
     "name": "stderr",
     "output_type": "stream",
     "text": [
      "2019-01-28 21:59:40,314 root         DEBUG    loading entire df for river dart from sql\n",
      "2019-01-28 21:59:42,244 root         DEBUG    Fill in missing timestamps by reindexing\n",
      "2019-01-28 21:59:43,297 root         DEBUG    Convert cumulative rain to actual rain\n",
      "2019-01-28 21:59:43,563 root         INFO     latest rain update at: 2018-08-19 21:00:00\n",
      "2019-01-28 21:59:43,567 root         DEBUG    Concat rain and forecast to create model_rain\n",
      "2019-01-28 21:59:43,603 root         DEBUG    interpolate model_rain\n"
     ]
    }
   ],
   "source": [
    "train_df, test_df = new_rnn_functions.load_data()"
   ]
  },
  {
   "cell_type": "code",
   "execution_count": 3,
   "metadata": {
    "collapsed": true
   },
   "outputs": [],
   "source": [
    "parameters = {\n",
    "    \"num_steps\": 80,\n",
    "    \"batch_size\": 150,\n",
    "    \"state_size\": 15,\n",
    "    \"learning_rate\": 0.1,\n",
    "    \"num_epochs\": 10,\n",
    "    \"num_features\": 3,\n",
    "    \"epoch_size\": 200,\n",
    "    \"num_layers\": 5,\n",
    "    \"num_level_updates\": 40,\n",
    "}\n",
    "\n",
    "graph = new_rnn_functions.generate_graph(parameters)"
   ]
  },
  {
   "cell_type": "code",
   "execution_count": 4,
   "metadata": {},
   "outputs": [],
   "source": [
    "# Test out the sample random generation\n",
    "\n",
    "#X, Y = new_rnn_functions.create_random_samples(train_df, parameters, rain_threshold=20)\n",
    "#new_rnn_functions.plot_sample(X, Y, index=120)"
   ]
  },
  {
   "cell_type": "code",
   "execution_count": 22,
   "metadata": {},
   "outputs": [
    {
     "name": "stdout",
     "output_type": "stream",
     "text": [
      "EPOCH 0\n",
      "('Average loss at step', 50, 'for last 50 steps:', 0.10916009366512298)\n",
      "('Average loss at step', 100, 'for last 50 steps:', 0.06046500816941261)\n",
      "('Average loss at step', 150, 'for last 50 steps:', 0.046876438111066815)\n",
      "EPOCH 1\n",
      "('Average loss at step', 50, 'for last 50 steps:', 0.030570053942501545)\n",
      "('Average loss at step', 100, 'for last 50 steps:', 0.025830222330987453)\n",
      "('Average loss at step', 150, 'for last 50 steps:', 0.022860449627041816)\n",
      "EPOCH 2\n",
      "('Average loss at step', 50, 'for last 50 steps:', 0.021131493132561446)\n",
      "('Average loss at step', 100, 'for last 50 steps:', 0.01919715477153659)\n",
      "('Average loss at step', 150, 'for last 50 steps:', 0.01856784017756581)\n",
      "EPOCH 3\n",
      "('Average loss at step', 50, 'for last 50 steps:', 0.016352030988782643)\n",
      "('Average loss at step', 100, 'for last 50 steps:', 0.01572064395993948)\n",
      "('Average loss at step', 150, 'for last 50 steps:', 0.015140606332570314)\n",
      "EPOCH 4\n",
      "('Average loss at step', 50, 'for last 50 steps:', 0.015932467244565488)\n",
      "('Average loss at step', 100, 'for last 50 steps:', 0.013973873462527991)\n",
      "('Average loss at step', 150, 'for last 50 steps:', 0.014105138815939427)\n",
      "EPOCH 5\n",
      "('Average loss at step', 50, 'for last 50 steps:', 0.013921836242079735)\n",
      "('Average loss at step', 100, 'for last 50 steps:', 0.012977121733129024)\n",
      "('Average loss at step', 150, 'for last 50 steps:', 0.013498702086508274)\n",
      "EPOCH 6\n",
      "('Average loss at step', 50, 'for last 50 steps:', 0.012452374901622534)\n",
      "('Average loss at step', 100, 'for last 50 steps:', 0.013298022020608187)\n",
      "('Average loss at step', 150, 'for last 50 steps:', 0.013084580600261688)\n",
      "EPOCH 7\n",
      "('Average loss at step', 50, 'for last 50 steps:', 0.012495634071528912)\n",
      "('Average loss at step', 100, 'for last 50 steps:', 0.011937075667083264)\n",
      "('Average loss at step', 150, 'for last 50 steps:', 0.011497844476252794)\n",
      "EPOCH 8\n",
      "('Average loss at step', 50, 'for last 50 steps:', 0.012480622567236423)\n",
      "('Average loss at step', 100, 'for last 50 steps:', 0.010796695537865162)\n",
      "('Average loss at step', 150, 'for last 50 steps:', 0.01103746130131185)\n",
      "EPOCH 9\n",
      "('Average loss at step', 50, 'for last 50 steps:', 0.011587124597281218)\n",
      "('Average loss at step', 100, 'for last 50 steps:', 0.010776353012770414)\n",
      "('Average loss at step', 150, 'for last 50 steps:', 0.010939484471455216)\n",
      "INFO:tensorflow:Assets added to graph.\n"
     ]
    },
    {
     "name": "stderr",
     "output_type": "stream",
     "text": [
      "2019-01-28 21:06:16,810 tensorflow   INFO     Assets added to graph.\n"
     ]
    },
    {
     "name": "stdout",
     "output_type": "stream",
     "text": [
      "INFO:tensorflow:No assets to write.\n"
     ]
    },
    {
     "name": "stderr",
     "output_type": "stream",
     "text": [
      "2019-01-28 21:06:16,814 tensorflow   INFO     No assets to write.\n"
     ]
    },
    {
     "name": "stdout",
     "output_type": "stream",
     "text": [
      "INFO:tensorflow:SavedModel written to: /Users/jconn/isthedartrunning/analysis/models/test/saved_model.pb\n"
     ]
    },
    {
     "name": "stderr",
     "output_type": "stream",
     "text": [
      "2019-01-28 21:06:18,510 tensorflow   INFO     SavedModel written to: /Users/jconn/isthedartrunning/analysis/models/test/saved_model.pb\n"
     ]
    },
    {
     "data": {
      "image/png": "[encoded data removed]",
      "text/plain": [
       "<Figure size 432x288 with 1 Axes>"
      ]
     },
     "metadata": {},
     "output_type": "display_data"
    }
   ],
   "source": [
    "def run_training(train_df, parameters, graph, model_name):\n",
    "    num_epochs = parameters[\"num_epochs\"]\n",
    "    batch_size = parameters[\"batch_size\"]\n",
    "    state_size = parameters[\"state_size\"]\n",
    "    num_epochs = parameters[\"num_epochs\"]\n",
    "    epoch_size = parameters[\"epoch_size\"]\n",
    "    \n",
    "    train_step = graph[\"train_step\"]\n",
    "    total_loss = graph[\"total_loss\"]\n",
    "    final_state = graph[\"final_state\"]\n",
    "    losses = graph[\"losses\"]\n",
    "    predictions = graph[\"predictions\"]\n",
    "    x = graph[\"x\"]\n",
    "    y = graph[\"y\"]\n",
    "    \n",
    "    init = tf.global_variables_initializer()\n",
    "    with tf.Session() as sess:\n",
    "        sess.run(init)\n",
    "        training_losses = []\n",
    "        Ys = []\n",
    "        preds = []\n",
    "        for idx in range(num_epochs):\n",
    "            training_loss = 0\n",
    "            training_state = np.zeros((batch_size, state_size))\n",
    "            print \"EPOCH\", idx\n",
    "            for step in range(epoch_size):\n",
    "                X, Y = new_rnn_functions.create_random_samples(train_df, parameters, rain_threshold=20)\n",
    "                #print X.shape, Y.shape\n",
    "                tr_losses, training_loss_, training_state, _, pred = \\\n",
    "                    sess.run([losses,\n",
    "                              total_loss,\n",
    "                              final_state,\n",
    "                              train_step,\n",
    "                              predictions],\n",
    "                                  feed_dict={x:X, y:Y})\n",
    "                training_loss += training_loss_\n",
    "                \n",
    "                if step % 50 == 0 and step > 0:\n",
    "                    print(\"Average loss at step\", step,\n",
    "                          \"for last 50 steps:\", training_loss/50)\n",
    "                    training_losses.append(training_loss/50)\n",
    "                    training_loss = 0\n",
    "                \n",
    "                    \n",
    "        cwd = os.getcwd()\n",
    "        path = os.path.join(cwd, 'models', model_name)\n",
    "        shutil.rmtree(path, ignore_errors=True)\n",
    "                    \n",
    "        tf.saved_model.simple_save(\n",
    "            sess,\n",
    "            path,\n",
    "            inputs={\"x\": x, \"y\": y},\n",
    "            outputs={\"predictions\": predictions}\n",
    "        )\n",
    "\n",
    "    return training_losses, X, Y, pred\n",
    "\n",
    "training_losses, final_X, final_Y, final_pred = run_training(train_df, parameters, graph, model_name=\"test\")\n",
    "\n",
    "plt.plot(training_losses)\n",
    "plt.show()\n",
    "\n",
    "# plot from the final predictions\n",
    "\n",
    "new_rnn_functions.plot_sample(final_X, final_Y, final_pred, parameters=parameters, index=54)"
   ]
  },
  {
   "cell_type": "code",
   "execution_count": null,
   "metadata": {},
   "outputs": [],
   "source": []
  },
  {
   "cell_type": "code",
   "execution_count": 5,
   "metadata": {
    "collapsed": true
   },
   "outputs": [],
   "source": [
    "import modelLib\n",
    "def bucket_predict(inputs, num_level_updates):\n",
    "    X = inputs[\"x\"]\n",
    "    pred = []\n",
    "    for i in range(X.shape[0]):\n",
    "        x = X[i,:,:]\n",
    "        p = x[:, 2]\n",
    "        starting_level = x[num_level_updates-1,2]\n",
    "        storage=modelLib.f_inv(modelLib.g_inv(starting_level))\n",
    "    \n",
    "        for j in range(x.shape[0]-num_level_updates):\n",
    "            rain = x[j+num_level_updates,0]\n",
    "            predict = modelLib.g(modelLib.f(storage))\n",
    "            storage = storage + rain - modelLib.f(storage)\n",
    "            p[j+num_level_updates] = predict\n",
    "        pred.append(p)\n",
    "    return np.array(pred)"
   ]
  },
  {
   "cell_type": "code",
   "execution_count": 6,
   "metadata": {},
   "outputs": [
    {
     "name": "stdout",
     "output_type": "stream",
     "text": [
      "INFO:tensorflow:Restoring parameters from /Users/jconn/isthedartrunning/analysis/models/new_code_20_epoch_30_state_size/variables/variables\n"
     ]
    },
    {
     "name": "stderr",
     "output_type": "stream",
     "text": [
      "2019-01-28 21:59:54,866 tensorflow   INFO     Restoring parameters from /Users/jconn/isthedartrunning/analysis/models/new_code_20_epoch_30_state_size/variables/variables\n"
     ]
    },
    {
     "name": "stdout",
     "output_type": "stream",
     "text": [
      "TRAIN DATA\n",
      "\tMean absolute error: 0.0619\n",
      "\tRoot mean squared error: 0.095\n",
      "\tMean absolute bucket_error: 0.0843\n",
      "\tRoot mean squared bucket_error: 0.251\n",
      "\n",
      "TEST DATA\n",
      "\tMean absolute error: 0.0673\n",
      "\tRoot mean squared error: 0.111\n",
      "\tMean absolute bucket_error: 0.0887\n",
      "\tRoot mean squared bucket_error: 0.276\n"
     ]
    },
    {
     "name": "stderr",
     "output_type": "stream",
     "text": [
      "2019-01-28 21:59:56,286 matplotlib.font_manager DEBUG    findfont: Matching :family=sans-serif:style=normal:variant=normal:weight=normal:stretch=normal:size=10.0 to DejaVu Sans (u'/Users/jconn/.julia/v0.6/Conda/deps/usr/lib/python2.7/site-packages/matplotlib/mpl-data/fonts/ttf/DejaVuSans.ttf') with score of 0.050000\n"
     ]
    },
    {
     "data": {
      "image/png": "[encoded data removed]",
      "text/plain": [
       "<Figure size 432x288 with 1 Axes>"
      ]
     },
     "metadata": {},
     "output_type": "display_data"
    }
   ],
   "source": [
    "def evaluate_model(model_name, parameters, rain_threshold, index=1):\n",
    "    cwd = os.getcwd()\n",
    "    predict_fn = predictor.from_saved_model(os.path.join(cwd, \"models\", model_name))\n",
    "    \n",
    "    print \"TRAIN DATA\"\n",
    "    X, Y = new_rnn_functions.create_random_samples(train_df, parameters, rain_threshold=rain_threshold)\n",
    "    \n",
    "    pred = predict_fn({\"x\":X})\n",
    "    errors = np.abs(np.array(Y) - np.array(pred[\"predictions\"]))\n",
    "    print \"\\tMean absolute error:\", errors.mean().round(4)\n",
    "    print \"\\tRoot mean squared error:\", round(math.sqrt((errors ** 2).mean()), 3)\n",
    "    \n",
    "    bucket_pred = bucket_predict({\"x\":X}, num_level_updates=parameters[\"num_level_updates\"])\n",
    "    bucket_errors = np.abs(np.array(Y) - np.array(bucket_pred))\n",
    "    print \"\\tMean absolute bucket_error:\", bucket_errors.mean().round(4)\n",
    "    print \"\\tRoot mean squared bucket_error:\", round(math.sqrt((bucket_errors ** 2).mean()), 3)\n",
    "    \n",
    "    print\n",
    "    \n",
    "    print \"TEST DATA\"\n",
    "    X, Y = new_rnn_functions.create_random_samples(test_df, parameters, rain_threshold=rain_threshold)\n",
    "    \n",
    "    pred = predict_fn({\"x\":X})\n",
    "    errors = np.abs(np.array(Y) - np.array(pred[\"predictions\"]))\n",
    "    print \"\\tMean absolute error:\", errors.mean().round(4)\n",
    "    print \"\\tRoot mean squared error:\", round(math.sqrt((errors ** 2).mean()), 3)\n",
    "    \n",
    "    bucket_pred = bucket_predict({\"x\":X}, num_level_updates=parameters[\"num_level_updates\"])\n",
    "    bucket_errors = np.abs(np.array(Y) - np.array(bucket_pred))\n",
    "    print \"\\tMean absolute bucket_error:\", bucket_errors.mean().round(4)\n",
    "    print \"\\tRoot mean squared bucket_error:\", round(math.sqrt((bucket_errors ** 2).mean()), 3)\n",
    "\n",
    "    new_rnn_functions.plot_sample(X, Y, pred[\"predictions\"], parameters=parameters, bucket_pred=bucket_pred, index=index)\n",
    "    \n",
    "    \n",
    "evaluate_model(model_name = \"new_code_20_epoch_30_state_size\", parameters=parameters, rain_threshold=20, index=24)"
   ]
  },
  {
   "cell_type": "code",
   "execution_count": null,
   "metadata": {},
   "outputs": [],
   "source": []
  },
  {
   "cell_type": "code",
   "execution_count": null,
   "metadata": {
    "collapsed": true
   },
   "outputs": [],
   "source": []
  },
  {
   "cell_type": "code",
   "execution_count": null,
   "metadata": {
    "collapsed": true
   },
   "outputs": [],
   "source": []
  },
  {
   "cell_type": "code",
   "execution_count": null,
   "metadata": {
    "collapsed": true
   },
   "outputs": [],
   "source": [
    "/"
   ]
  }
 ],
 "metadata": {
  "kernelspec": {
   "display_name": "ENV",
   "language": "python",
   "name": "env"
  },
  "language_info": {
   "codemirror_mode": {
    "name": "ipython",
    "version": 2
   },
   "file_extension": ".py",
   "mimetype": "text/x-python",
   "name": "python",
   "nbconvert_exporter": "python",
   "pygments_lexer": "ipython2",
   "version": "2.7.10"
  }
 },
 "nbformat": 4,
 "nbformat_minor": 2
}
