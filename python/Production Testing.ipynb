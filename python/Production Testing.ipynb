{
 "cells": [
  {
   "cell_type": "code",
   "execution_count": 1,
   "metadata": {
    "collapsed": true
   },
   "outputs": [],
   "source": [
    "%matplotlib inline\n",
    "import math\n",
    "import time\n",
    "import json\n",
    "import pandas as pd\n",
    "import os\n",
    "import numpy as np\n",
    "import sqlite3\n",
    "import boto3\n",
    "import tensorflow as tf\n",
    "import matplotlib as plt"
   ]
  },
  {
   "cell_type": "code",
   "execution_count": 2,
   "metadata": {
    "collapsed": true
   },
   "outputs": [],
   "source": [
    "from logfuncts import logger\n",
    "from modelLib import rnn_model, load_dataframe_from_sql\n",
    "\n",
    "\n",
    "FDIR = os.path.abspath(os.path.dirname(\".\"))\n",
    "DATABASE_PATH = os.path.join(FDIR, '../data.db')\n",
    "OUTPUT_PATH = os.path.join(FDIR, '../html/dart.json')\n",
    "RIVER_NAME = \"dart\"\n",
    "\n",
    "MIMIMUM_THRESHOLD = 0.7\n",
    "MAXIMUM_THRESHOLD = 1.5"
   ]
  },
  {
   "cell_type": "code",
   "execution_count": 5,
   "metadata": {},
   "outputs": [
    {
     "name": "stderr",
     "output_type": "stream",
     "text": [
      "2019-04-26 19:32:19,123 root         DEBUG    loading entire df for river dart from sql\n",
      "2019-04-26 19:32:19,690 root         DEBUG    latest_level_update_timestamp: 2019-04-06 21:30:00\n",
      "2019-04-26 19:32:19,692 root         DEBUG    latest_rain_time: 2019-04-07 21:00:00\n",
      "2019-04-26 19:32:19,693 root         DEBUG    latest_forecast_rain_time: 2019-04-08 21:00:00\n",
      "2019-04-26 19:32:19,702 root         DEBUG    num_level_updates: 96\n",
      "2019-04-26 19:32:19,704 root         DEBUG    num_rain_updates: 190\n",
      "2019-04-26 19:32:19,706 root         DEBUG    num_forecast_rain_updates: 286\n"
     ]
    },
    {
     "name": "stdout",
     "output_type": "stream",
     "text": [
      "INFO:tensorflow:Restoring parameters from /Users/jconn/isthedartrunning/python/production_rnn/variables/variables\n"
     ]
    },
    {
     "name": "stderr",
     "output_type": "stream",
     "text": [
      "2019-04-26 19:32:19,975 tensorflow   INFO     Restoring parameters from /Users/jconn/isthedartrunning/python/production_rnn/variables/variables\n",
      "2019-04-26 19:32:20,182 root         INFO     currenct level: 0.374000012875\n",
      "2019-04-26 19:32:20,185 root         INFO     OUTPUT TEXT: NO\n"
     ]
    }
   ],
   "source": [
    "testing_mode = True\n",
    "testing_timestamp = \"2019-04-07 21:30:00\"\n",
    "\n",
    "output = rnn_model(testing_mode, testing_timestamp)"
   ]
  },
  {
   "cell_type": "code",
   "execution_count": 6,
   "metadata": {
    "collapsed": true
   },
   "outputs": [],
   "source": [
    "with open(\"../html/dart.json\", 'w') as f:\n",
    "    json.dump(output, f, indent=4)"
   ]
  },
  {
   "cell_type": "code",
   "execution_count": null,
   "metadata": {
    "collapsed": true
   },
   "outputs": [],
   "source": []
  },
  {
   "cell_type": "code",
   "execution_count": null,
   "metadata": {
    "collapsed": true
   },
   "outputs": [],
   "source": []
  }
 ],
 "metadata": {
  "kernelspec": {
   "display_name": "ENV",
   "language": "python",
   "name": "env"
  },
  "language_info": {
   "codemirror_mode": {
    "name": "ipython",
    "version": 2
   },
   "file_extension": ".py",
   "mimetype": "text/x-python",
   "name": "python",
   "nbconvert_exporter": "python",
   "pygments_lexer": "ipython2",
   "version": "2.7.14"
  }
 },
 "nbformat": 4,
 "nbformat_minor": 2
}
